{
 "cells": [
  {
   "cell_type": "markdown",
   "metadata": {},
   "source": [
    "Ejercicio1 - Utilizar operadores aritméticos"
   ]
  },
  {
   "cell_type": "code",
   "execution_count": 4,
   "metadata": {},
   "outputs": [
    {
     "name": "stdout",
     "output_type": "stream",
     "text": [
      "La distancia fue 628949330\n",
      "La distancia en millas fue 390577533.93\n"
     ]
    }
   ],
   "source": [
    "earth=149597870\n",
    "jupiter= 778547200\n",
    "\n",
    "distance= jupiter-earth\n",
    "print(f'La distancia fue {distance}')\n",
    "\n",
    "distance_miles=distance*0.621\n",
    "print(f'La distancia en millas fue {distance_miles}')"
   ]
  },
  {
   "cell_type": "markdown",
   "metadata": {},
   "source": [
    "Ejercicio 2: convierte cadenas en números y usa valores absolutos"
   ]
  },
  {
   "cell_type": "code",
   "execution_count": 6,
   "metadata": {},
   "outputs": [
    {
     "name": "stdout",
     "output_type": "stream",
     "text": [
      "La distancia fue 222\n",
      "La distancia en millas fue 137.862\n"
     ]
    }
   ],
   "source": [
    "first_planet=(input(\"Write a distance: \"))\n",
    "second_planet=(input(\"Write a distance: \"))\n",
    "\n",
    "first_planet=int(first_planet)\n",
    "second_planet=int(second_planet)\n",
    "\n",
    "distance=abs(first_planet-second_planet)\n",
    "print(f'La distancia fue {distance}')\n",
    "distance_miles=distance*0.621\n",
    "print(f'La distancia en millas fue {distance_miles}')"
   ]
  }
 ],
 "metadata": {
  "interpreter": {
   "hash": "f4fbc50b6f259a37a0ace049052840ee617c085ad9fc40cda692c8805d1e379d"
  },
  "kernelspec": {
   "display_name": "Python 3.9.7 64-bit",
   "language": "python",
   "name": "python3"
  },
  "language_info": {
   "codemirror_mode": {
    "name": "ipython",
    "version": 3
   },
   "file_extension": ".py",
   "mimetype": "text/x-python",
   "name": "python",
   "nbconvert_exporter": "python",
   "pygments_lexer": "ipython3",
   "version": "3.9.7"
  },
  "orig_nbformat": 4
 },
 "nbformat": 4,
 "nbformat_minor": 2
}
