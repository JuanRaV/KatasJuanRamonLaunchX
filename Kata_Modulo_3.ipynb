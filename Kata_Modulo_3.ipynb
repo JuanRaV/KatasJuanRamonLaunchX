{
 "cells": [
  {
   "cell_type": "markdown",
   "metadata": {},
   "source": [
    "\n",
    "Ejercicio - Escribir declaraciones if, else, y elif"
   ]
  },
  {
   "cell_type": "markdown",
   "metadata": {},
   "source": [
    "Problema No.1"
   ]
  },
  {
   "cell_type": "code",
   "execution_count": 1,
   "metadata": {},
   "outputs": [
    {
     "name": "stdout",
     "output_type": "stream",
     "text": [
      "Todo correcto, siga con su vida\n"
     ]
    }
   ],
   "source": [
    "a=24\n",
    "if a>=25:\n",
    "    print(\"Advertencia, asteroide acercandose\")\n",
    "else:\n",
    "    print(\"Todo correcto, siga con su vida\")"
   ]
  },
  {
   "cell_type": "markdown",
   "metadata": {},
   "source": [
    "Problema No.2"
   ]
  },
  {
   "cell_type": "code",
   "execution_count": 2,
   "metadata": {},
   "outputs": [
    {
     "name": "stdout",
     "output_type": "stream",
     "text": [
      "Busca el asteroide en el cielo!\n"
     ]
    }
   ],
   "source": [
    "a=20\n",
    "if a==20:\n",
    "    print(\"Busca el asteroide en el cielo!\")\n",
    "elif a>20:\n",
    "    print(\"Busca el asteroide en el cielo!\")\n",
    "else:\n",
    "    print(\"No hay nada por ver\")"
   ]
  },
  {
   "cell_type": "markdown",
   "metadata": {},
   "source": [
    "\n",
    "Ejercicio: Uso de operadores and y or"
   ]
  },
  {
   "cell_type": "markdown",
   "metadata": {},
   "source": [
    "Problema No.3"
   ]
  },
  {
   "cell_type": "code",
   "execution_count": 8,
   "metadata": {},
   "outputs": [
    {
     "name": "stdout",
     "output_type": "stream",
     "text": [
      "Nada que ver por hoy\n"
     ]
    }
   ],
   "source": [
    "a=float(input(\"Escriba la velocidad del asteroide: \"))\n",
    "b=float(input(\"Escriba el tamanio del asteroide: \"))\n",
    "\n",
    "if a>=25 and b>=25:\n",
    "    print(\"Alerta! asteroide acercandose. Danio catastrofico seguro\")\n",
    "elif a>=20:\n",
    "    print(\"Busca el asteroide en el cielo!\")\n",
    "elif b<25:\n",
    "    print(\"Nada que ver por hoy\")\n",
    "else:\n",
    "    print(\"Nada que ver por hoy\")\n"
   ]
  }
 ],
 "metadata": {
  "interpreter": {
   "hash": "f4fbc50b6f259a37a0ace049052840ee617c085ad9fc40cda692c8805d1e379d"
  },
  "kernelspec": {
   "display_name": "Python 3.9.7 64-bit",
   "language": "python",
   "name": "python3"
  },
  "language_info": {
   "codemirror_mode": {
    "name": "ipython",
    "version": 3
   },
   "file_extension": ".py",
   "mimetype": "text/x-python",
   "name": "python",
   "nbconvert_exporter": "python",
   "pygments_lexer": "ipython3",
   "version": "3.9.7"
  },
  "orig_nbformat": 4
 },
 "nbformat": 4,
 "nbformat_minor": 2
}
